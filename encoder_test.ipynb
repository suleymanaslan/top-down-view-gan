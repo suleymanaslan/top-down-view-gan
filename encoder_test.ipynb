{
 "cells": [
  {
   "cell_type": "code",
   "execution_count": null,
   "metadata": {
    "collapsed": true,
    "pycharm": {
     "name": "#%%\n"
    }
   },
   "outputs": [],
   "source": [
    "import torch\n",
    "import torch.nn as nn\n",
    "\n",
    "class CustomEncoder(nn.Module):\n",
    "    def __init__(self):\n",
    "        super(CustomEncoder, self).__init__()\n",
    "        self.in_channel = 3 * 21\n",
    "        self.conv1 = nn.Conv2d(self.in_channel, 32, 1, 1, 0)\n",
    "        self.conv2 = nn.Conv2d(32, 64, 1, 1, 0)\n",
    "        self.conv3 = nn.Conv2d(64, 128, 1, 1, 0)\n",
    "        self.conv4 = nn.Conv2d(128, 256, 1, 1, 0)\n",
    "        self.leaky_relu = nn.LeakyReLU(0.2, inplace=True)\n",
    "        self.avg_pool = nn.AvgPool2d(2)\n",
    "        self.out_dim = 256 * 4 * 4\n",
    "\n",
    "    def forward(self, x):\n",
    "        print(f\"input_x:{input_x.shape}\")\n",
    "        x = x.view(x.shape[0], self.in_channel, 64, 64)\n",
    "        print(f\"encoder conv input:{x.shape}\")\n",
    "        x = self.avg_pool(self.leaky_relu(self.conv1(x)))\n",
    "        print(f\"encoder conv_1 out:{x.shape}\")\n",
    "        x = self.avg_pool(self.leaky_relu(self.conv2(x)))\n",
    "        print(f\"encoder conv_2 out:{x.shape}\")\n",
    "        x = self.avg_pool(self.leaky_relu(self.conv3(x)))\n",
    "        print(f\"encoder conv_3 out:{x.shape}\")\n",
    "        x = self.avg_pool(self.leaky_relu(self.conv4(x)))\n",
    "        print(f\"encoder conv_4 out:{x.shape}\")\n",
    "        x = x.view(x.shape[0], self.out_dim)\n",
    "        print(f\"encoding:{x.shape}\")\n",
    "        return x\n",
    "\n",
    "batch_size = 4\n",
    "channels = 3\n",
    "depth = 21\n",
    "height = 64\n",
    "width = 64\n",
    "\n",
    "encoder = CustomEncoder()\n",
    "input_x = torch.rand((batch_size, channels, depth, height, width))\n",
    "encoding = encoder(input_x)"
   ]
  }
 ],
 "metadata": {
  "kernelspec": {
   "display_name": "Python 3",
   "language": "python",
   "name": "python3"
  },
  "language_info": {
   "codemirror_mode": {
    "name": "ipython",
    "version": 2
   },
   "file_extension": ".py",
   "mimetype": "text/x-python",
   "name": "python",
   "nbconvert_exporter": "python",
   "pygments_lexer": "ipython2",
   "version": "2.7.6"
  }
 },
 "nbformat": 4,
 "nbformat_minor": 0
}