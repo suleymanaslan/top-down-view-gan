{
 "cells": [
  {
   "cell_type": "code",
   "execution_count": null,
   "metadata": {
    "collapsed": true
   },
   "outputs": [],
   "source": [
    "import gym\n",
    "import math\n",
    "import gym_miniworld\n",
    "from env_utils import get_data\n",
    "from observation_data import ObservationData\n",
    "\n",
    "env = gym.make(\"MiniWorld-PickupObjs-v0\")\n",
    "env.domain_rand = True\n",
    "env.max_episode_steps = math.inf\n",
    "agent_fov = 90\n",
    "\n",
    "steps_per_epoch = 21\n",
    "epochs = 196\n",
    "\n",
    "obs_data = ObservationData(obs_buffer_size=steps_per_epoch,\n",
    "                           data_buffer_size=4096,\n",
    "                           batch_size=16)\n",
    "\n",
    "for i in range(epochs):\n",
    "    _ = env.reset()\n",
    "    env.agent.cam_fov_y = agent_fov\n",
    "    obs, top_down_obs = get_data(env)\n",
    "    obs_data.append_obs(obs, top_down_obs, new_episode=True)\n",
    "    for _ in range(steps_per_epoch-1):\n",
    "        _, reward, done, info = env.step(env.actions.turn_right)\n",
    "        obs, top_down_obs = get_data(env)\n",
    "        obs_data.append_obs(obs, top_down_obs)\n",
    "\n",
    "obs_data.save()\n",
    "env.close()\n"
   ]
  }
 ],
 "metadata": {
  "kernelspec": {
   "display_name": "Python 3",
   "language": "python",
   "name": "python3"
  },
  "language_info": {
   "codemirror_mode": {
    "name": "ipython",
    "version": 2
   },
   "file_extension": ".py",
   "mimetype": "text/x-python",
   "name": "python",
   "nbconvert_exporter": "python",
   "pygments_lexer": "ipython2",
   "version": "2.7.6"
  }
 },
 "nbformat": 4,
 "nbformat_minor": 0
}