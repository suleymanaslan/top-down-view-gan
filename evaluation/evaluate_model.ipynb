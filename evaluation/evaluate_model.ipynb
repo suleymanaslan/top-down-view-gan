{
 "cells": [
  {
   "cell_type": "code",
   "execution_count": null,
   "metadata": {
    "collapsed": true
   },
   "outputs": [],
   "source": [
    "from numpngw import write_apng\n",
    "from model.model import Model\n",
    "from dataset_utils.observation_data import ObservationData\n",
    "from environment.env import Env\n",
    "\n",
    "model = Model(max_scale=4,\n",
    "              steps_per_scale=int(25e3),\n",
    "              lr=1e-3)\n",
    "trained_model = \"baseline\"\n",
    "model.load(f\"../trained_models/{trained_model}\")\n",
    "\n",
    "obs_data = ObservationData(obs_buffer_size=21,\n",
    "                           data_buffer_size=int(16e3),\n",
    "                           batch_size=16)\n",
    "obs_data.load()\n",
    "\n",
    "env = Env(obs_buffer_size=21)"
   ]
  },
  {
   "cell_type": "code",
   "execution_count": null,
   "outputs": [],
   "source": [
    "anim_img = model.animate_training_episodes(obs_data)\n",
    "write_apng(f\"../results/{trained_model}/anim_train.png\", anim_img, delay=100, use_palette=False)\n",
    "\n",
    "anim_img = model.animate_testing_episodes(env)\n",
    "write_apng(f\"../results/{trained_model}/anim_test.png\", anim_img, delay=100, use_palette=False)"
   ],
   "metadata": {
    "collapsed": false,
    "pycharm": {
     "name": "#%%\n"
    }
   }
  }
 ],
 "metadata": {
  "kernelspec": {
   "display_name": "Python 3",
   "language": "python",
   "name": "python3"
  },
  "language_info": {
   "codemirror_mode": {
    "name": "ipython",
    "version": 2
   },
   "file_extension": ".py",
   "mimetype": "text/x-python",
   "name": "python",
   "nbconvert_exporter": "python",
   "pygments_lexer": "ipython2",
   "version": "2.7.6"
  }
 },
 "nbformat": 4,
 "nbformat_minor": 0
}