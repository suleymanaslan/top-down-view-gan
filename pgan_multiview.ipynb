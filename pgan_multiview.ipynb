{
 "cells": [
  {
   "cell_type": "code",
   "execution_count": null,
   "metadata": {
    "collapsed": true
   },
   "outputs": [],
   "source": [
    "from model import Model\n",
    "from multiview_data import MultiViewData\n",
    "\n",
    "model = Model(max_scale=4,\n",
    "              steps_per_scale=int(25e3),\n",
    "              lr=1e-3,\n",
    "              multiview=True)\n",
    "\n",
    "multiview_data = MultiViewData(episode_duration=21,\n",
    "                               data_buffer_size=int(1e5),\n",
    "                               batch_size=16)\n",
    "multiview_data.load()\n",
    "\n",
    "for step_i in range(int(400e3)):\n",
    "    x, y = multiview_data.get_sample()\n",
    "    model.train_step(x, y)\n",
    "\n",
    "model.save()"
   ]
  }
 ],
 "metadata": {
  "kernelspec": {
   "display_name": "Python 3",
   "language": "python",
   "name": "python3"
  },
  "language_info": {
   "codemirror_mode": {
    "name": "ipython",
    "version": 2
   },
   "file_extension": ".py",
   "mimetype": "text/x-python",
   "name": "python",
   "nbconvert_exporter": "python",
   "pygments_lexer": "ipython2",
   "version": "2.7.6"
  }
 },
 "nbformat": 4,
 "nbformat_minor": 0
}