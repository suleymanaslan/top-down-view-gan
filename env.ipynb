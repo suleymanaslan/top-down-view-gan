{
 "cells": [
  {
   "cell_type": "code",
   "execution_count": null,
   "metadata": {
    "collapsed": true,
    "pycharm": {
     "name": "#%%\n"
    }
   },
   "outputs": [],
   "source": [
    "%matplotlib inline\n",
    "import gym\n",
    "import math\n",
    "import gym_miniworld\n",
    "from env_utils import show_all_view\n",
    "\n",
    "env = gym.make(\"MiniWorld-PickupObjs-v0\")\n",
    "env.max_episode_steps = math.inf\n",
    "agent_fov = 90\n",
    "\n",
    "obs = env.reset()\n",
    "env.agent.cam_fov_y = agent_fov\n",
    "show_all_view(env)\n",
    "for i in range(1, 200):\n",
    "    obs, reward, done, info = env.step(env.actions.turn_right)\n",
    "    if i % 20 == 0:\n",
    "        env.reset()\n",
    "        env.agent.cam_fov_y = agent_fov\n",
    "    show_all_view(env)\n",
    "env.close()"
   ]
  }
 ],
 "metadata": {
  "kernelspec": {
   "display_name": "Python 3",
   "language": "python",
   "name": "python3"
  },
  "language_info": {
   "codemirror_mode": {
    "name": "ipython",
    "version": 2
   },
   "file_extension": ".py",
   "mimetype": "text/x-python",
   "name": "python",
   "nbconvert_exporter": "python",
   "pygments_lexer": "ipython2",
   "version": "2.7.6"
  }
 },
 "nbformat": 4,
 "nbformat_minor": 0
}