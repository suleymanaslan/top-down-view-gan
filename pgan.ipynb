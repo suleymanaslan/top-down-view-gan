{
 "cells": [
  {
   "cell_type": "code",
   "execution_count": null,
   "metadata": {
    "collapsed": true,
    "pycharm": {
     "name": "#%%\n"
    }
   },
   "outputs": [],
   "source": [
    "import torch.utils.data\n",
    "import torchvision.datasets as datasets\n",
    "import torchvision.transforms as transforms\n",
    "from model import Model\n",
    "\n",
    "model = Model(max_scale=4,\n",
    "              steps_per_scale=int(25e3),\n",
    "              batch_size=16,\n",
    "              lr=1e-3)\n",
    "\n",
    "stl10_data = datasets.STL10(\"datasets/stl10\",\n",
    "                            split=\"train+unlabeled\",\n",
    "                            folds=None,\n",
    "                            transform=transforms.Compose([transforms.Resize(model.image_size),\n",
    "                                                          transforms.CenterCrop(model.image_size),\n",
    "                                                          transforms.ToTensor(),\n",
    "                                                          ]),\n",
    "                            download=True)\n",
    "dataloader = torch.utils.data.DataLoader(stl10_data,\n",
    "                                         batch_size=model.batch_size,\n",
    "                                         drop_last=True,\n",
    "                                         shuffle=True,\n",
    "                                         pin_memory=True)\n",
    "\n",
    "model.train(dataloader)"
   ]
  }
 ],
 "metadata": {
  "kernelspec": {
   "display_name": "Python 3",
   "language": "python",
   "name": "python3"
  },
  "language_info": {
   "codemirror_mode": {
    "name": "ipython",
    "version": 2
   },
   "file_extension": ".py",
   "mimetype": "text/x-python",
   "name": "python",
   "nbconvert_exporter": "python",
   "pygments_lexer": "ipython2",
   "version": "2.7.6"
  }
 },
 "nbformat": 4,
 "nbformat_minor": 0
}