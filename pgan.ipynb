{
 "cells": [
  {
   "cell_type": "code",
   "execution_count": null,
   "metadata": {
    "collapsed": true,
    "pycharm": {
     "name": "#%%\n"
    }
   },
   "outputs": [],
   "source": [
    "from model import Model\n",
    "from env import Env\n",
    "\n",
    "model = Model(max_scale=5,\n",
    "              steps_per_scale=int(5e3),\n",
    "              lr=1e-3)\n",
    "\n",
    "env = Env(obs_buffer_size=25,\n",
    "          data_buffer_size=1024,\n",
    "          batch_size=16)"
   ]
  },
  {
   "cell_type": "code",
   "execution_count": null,
   "outputs": [],
   "source": [
    "for step_i in range(int(50e3)):\n",
    "    if step_i % 30 == 0:\n",
    "        for _ in range(24):\n",
    "            obs_data = env.step()\n",
    "    x, y = obs_data.get_sample()\n",
    "    model.train_step(x, y)\n",
    "\n",
    "env.close()"
   ],
   "metadata": {
    "collapsed": false,
    "pycharm": {
     "name": "#%%\n"
    }
   }
  }
 ],
 "metadata": {
  "kernelspec": {
   "display_name": "Python 3",
   "language": "python",
   "name": "python3"
  },
  "language_info": {
   "codemirror_mode": {
    "name": "ipython",
    "version": 2
   },
   "file_extension": ".py",
   "mimetype": "text/x-python",
   "name": "python",
   "nbconvert_exporter": "python",
   "pygments_lexer": "ipython2",
   "version": "2.7.6"
  }
 },
 "nbformat": 4,
 "nbformat_minor": 0
}