{
 "cells": [
  {
   "cell_type": "code",
   "execution_count": null,
   "metadata": {
    "collapsed": true,
    "pycharm": {
     "name": "#%%\n"
    }
   },
   "outputs": [],
   "source": [
    "from model import Model\n",
    "from observation_data import ObservationData\n",
    "\n",
    "model = Model(max_scale=5,\n",
    "              steps_per_scale=int(20e3),\n",
    "              lr=1e-3)\n",
    "\n",
    "obs_data = ObservationData(obs_buffer_size=21,\n",
    "                           data_buffer_size=4096,\n",
    "                           batch_size=16)\n",
    "obs_data.load()\n",
    "\n",
    "for step_i in range(int(200e3)):\n",
    "    x, y = obs_data.get_sample()\n",
    "    model.train_step(x, y)\n",
    "\n",
    "model.save()"
   ]
  }
 ],
 "metadata": {
  "kernelspec": {
   "display_name": "Python 3",
   "language": "python",
   "name": "python3"
  },
  "language_info": {
   "codemirror_mode": {
    "name": "ipython",
    "version": 2
   },
   "file_extension": ".py",
   "mimetype": "text/x-python",
   "name": "python",
   "nbconvert_exporter": "python",
   "pygments_lexer": "ipython2",
   "version": "2.7.6"
  }
 },
 "nbformat": 4,
 "nbformat_minor": 0
}